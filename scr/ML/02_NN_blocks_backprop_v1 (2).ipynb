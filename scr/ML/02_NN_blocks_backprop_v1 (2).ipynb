{
  "cells": [
    {
      "cell_type": "code",
      "execution_count": 12,
      "metadata": {
        "id": "PqC4R7SGseKa"
      },
      "outputs": [],
      "source": [
        "import torch"
      ]
    },
    {
      "cell_type": "markdown",
      "metadata": {
        "id": "0J2RM8f5wP33"
      },
      "source": [
        "## 2.1 Создание нейронов и полносвязных слоев"
      ]
    },
    {
      "cell_type": "markdown",
      "metadata": {
        "id": "_2ArJn_nsdZC"
      },
      "source": [
        "2.1.1. Используя операции над матрицами и векторами из библиотеки `torch`, реализовать нейрон с заданными весами `weights` и `bias`. Прогнать вектор `inputs` через нейрон и вывести результат. "
      ]
    },
    {
      "cell_type": "code",
      "execution_count": 13,
      "metadata": {
        "id": "f4agkY9WqPwe"
      },
      "outputs": [],
      "source": [
        "class Neuron:\n",
        "  def __init__(self, weights, bias):\n",
        "    self.weights = weights\n",
        "    self.bias = bias\n",
        "    pass\n",
        "  \n",
        "  def forward(self, inputs):\n",
        "    return torch.sum(self.weights * inputs) + self.bias"
      ]
    },
    {
      "cell_type": "code",
      "execution_count": 14,
      "metadata": {
        "id": "HJRkSkHHsb7u"
      },
      "outputs": [],
      "source": [
        "inputs = torch.tensor([1.0, 2.0, 3.0, 4.0])\n",
        "weights = torch.tensor([-0.2, 0.3, -0.5, 0.7])\n",
        "bias = 3.14"
      ]
    },
    {
      "cell_type": "code",
      "source": [
        "neuron = Neuron(weights, bias)\n",
        "res = neuron.forward(inputs)\n",
        "res"
      ],
      "metadata": {
        "colab": {
          "base_uri": "https://localhost:8080/"
        },
        "id": "4ROLgafunlcl",
        "outputId": "342c5ece-3f16-40a3-b0d5-bb59db169ec3"
      },
      "execution_count": 15,
      "outputs": [
        {
          "output_type": "execute_result",
          "data": {
            "text/plain": [
              "tensor(4.8400)"
            ]
          },
          "metadata": {},
          "execution_count": 15
        }
      ]
    },
    {
      "cell_type": "markdown",
      "metadata": {
        "id": "1qJvnwiyty37"
      },
      "source": [
        "2.1.2 Используя операции над матрицами и векторами из библиотеки `torch`, реализовать полносвязный слой с заданными весами `weights` и `biases`. Прогнать вектор `inputs` через слой и вывести результат. "
      ]
    },
    {
      "cell_type": "code",
      "execution_count": 16,
      "metadata": {
        "id": "fVWF3a9vtx90"
      },
      "outputs": [],
      "source": [
        "class Linear:\n",
        "  def __init__(self, weights, biases):\n",
        "    self.weights = weights\n",
        "    self.biases = biases\n",
        "    pass\n",
        "  \n",
        "  def forward(self, inputs):\n",
        "    return torch.matmul(inputs, self.weights) + self.biases"
      ]
    },
    {
      "cell_type": "code",
      "execution_count": 17,
      "metadata": {
        "id": "Fo-JFnHPuFCS"
      },
      "outputs": [],
      "source": [
        "inputs = torch.tensor([1.0, 2.0, 3.0, 4.0])\n",
        "weights = torch.tensor([[-0.2, 0.3, -0.5, 0.7],\n",
        "                        [0.5, -0.91, 0.26, -0.5],\n",
        "                        [-0.26, -0.27, 0.17, 0.87]]).T\n",
        "\n",
        "biases = torch.tensor([3.14, 2.71, 7.2])"
      ]
    },
    {
      "cell_type": "code",
      "source": [
        "linear = Linear(weights = weights, biases = biases)\n",
        "linear.forward(inputs)"
      ],
      "metadata": {
        "colab": {
          "base_uri": "https://localhost:8080/"
        },
        "id": "9eCrq7q_n_qr",
        "outputId": "49bfc874-df8c-4860-8605-0970111b0525"
      },
      "execution_count": 18,
      "outputs": [
        {
          "output_type": "execute_result",
          "data": {
            "text/plain": [
              "tensor([ 4.8400,  0.1700, 10.3900])"
            ]
          },
          "metadata": {},
          "execution_count": 18
        }
      ]
    },
    {
      "cell_type": "markdown",
      "metadata": {
        "id": "mQtsJzcxuyGd"
      },
      "source": [
        "2.1.3 Реализовать полносвязный слой из __2.1.2__ таким образом, чтобы он мог принимать на вход матрицу (батч) с данными. Продемонстрировать работу.\n",
        "Результатом прогона сквозь слой должна быть матрица размера `batch_size` x `n_neurons`.\n"
      ]
    },
    {
      "cell_type": "code",
      "execution_count": 19,
      "metadata": {
        "id": "Z8IizmtsuhO1",
        "colab": {
          "base_uri": "https://localhost:8080/"
        },
        "outputId": "74fe61cd-7e07-436f-99e0-fed4adea0761"
      },
      "outputs": [
        {
          "output_type": "execute_result",
          "data": {
            "text/plain": [
              "tensor([[ 3.7900,  0.9200,  9.0850],\n",
              "        [ 6.1400, -2.1000,  6.9000],\n",
              "        [ 2.0400,  0.7610,  6.7260]])"
            ]
          },
          "metadata": {},
          "execution_count": 19
        }
      ],
      "source": [
        "inputs = torch.tensor([[1, 2, 3, 2.5], \n",
        "                       [2, 5, -1, 2], \n",
        "                       [-1.5, 2.7, 3.3, -0.8]])\n",
        "\n",
        "class Linear:\n",
        "  def __init__(self, weights, biases):\n",
        "    self.weights = weights\n",
        "    self.biases = biases\n",
        "\n",
        "  def forward(self, inputs):\n",
        "    return torch.matmul(inputs, self.weights) + self.biases\n",
        "\n",
        "linear = Linear(weights = weights, biases = biases)\n",
        "linear.forward(inputs)"
      ]
    },
    {
      "cell_type": "markdown",
      "metadata": {
        "id": "OQ2OxH4_vBLu"
      },
      "source": [
        "2.1.4 Используя операции над матрицами и векторами из библиотеки `torch`, реализовать полносвязный слой из `n_neurons` нейронов с `n_features` весами у каждого нейрона (инициализируются из стандартного нормального распределения). Прогнать вектор `inputs` через слой и вывести результат. Результатом прогона сквозь слой должна быть матрица размера `batch_size` x `n_neurons`."
      ]
    },
    {
      "cell_type": "code",
      "execution_count": 20,
      "metadata": {
        "id": "IOv52EdovASs",
        "colab": {
          "base_uri": "https://localhost:8080/"
        },
        "outputId": "3fd774da-42a0-4590-8e40-446e69f0394d"
      },
      "outputs": [
        {
          "output_type": "execute_result",
          "data": {
            "text/plain": [
              "tensor([[-5.8643,  3.6243,  2.6454],\n",
              "        [-3.6296,  8.1128,  7.8782],\n",
              "        [-0.5907, -2.2822,  3.3308]])"
            ]
          },
          "metadata": {},
          "execution_count": 20
        }
      ],
      "source": [
        "class Linear:\n",
        "  def __init__(self, n_features, n_neurons):\n",
        "    self.weights = torch.randn(n_features, n_neurons)\n",
        "    self.biases = torch.randn(n_neurons)\n",
        "    pass\n",
        "  \n",
        "  def forward(self, inputs):\n",
        "    return torch.matmul(inputs, self.weights) + self.biases\n",
        "\n",
        "inputs = torch.tensor([[1, 2, 3, 2.5], \n",
        "                       [2, 5, -1, 2], \n",
        "                       [-1.5, 2.7, 3.3, -0.8]])\n",
        "\n",
        "linear = Linear(n_features = 4, n_neurons = 3)\n",
        "linear.forward(inputs)"
      ]
    },
    {
      "cell_type": "markdown",
      "metadata": {
        "id": "IPG4UqL4wajI"
      },
      "source": [
        "2.1.5 Используя решение из __2.1.4__, создать 2 полносвязных слоя и пропустить матрицу `inputs` последовательно через эти два слоя. Количество нейронов в первом слое выбрать произвольно, количество нейронов во втором слое выбрать так, чтобы результатом прогона являлась матрица (3x7). "
      ]
    },
    {
      "cell_type": "code",
      "execution_count": 21,
      "metadata": {
        "id": "RjjQIQlTxJE6",
        "colab": {
          "base_uri": "https://localhost:8080/"
        },
        "outputId": "f569a939-6812-417d-c460-ca3e3c37e1f3"
      },
      "outputs": [
        {
          "output_type": "execute_result",
          "data": {
            "text/plain": [
              "tensor([[-9.2197e-01,  6.4811e+00,  2.7534e+00,  5.9855e-01, -6.1070e+00,\n",
              "          5.7019e+00, -5.8499e+00],\n",
              "        [ 2.0288e+01,  1.1731e-02, -4.1889e+00, -1.4584e+01, -8.0641e+00,\n",
              "         -8.5271e+00, -7.8943e+00],\n",
              "        [-1.3686e+01,  6.2459e+00,  2.7073e+00,  8.8172e+00, -5.4400e-01,\n",
              "          1.0585e+01, -1.1307e+00]])"
            ]
          },
          "metadata": {},
          "execution_count": 21
        }
      ],
      "source": [
        "inputs = torch.tensor([[1, 2, 3, 2.5], \n",
        "                       [2, 5, -1, 2], \n",
        "                       [-1.5, 2.7, 3.3, -0.8]])\n",
        "\n",
        "linear_1 = Linear(n_features = 4, n_neurons = 3)\n",
        "linear_2 = Linear(n_features = 3, n_neurons = 7)\n",
        "linear_2.forward(linear_1.forward(inputs))"
      ]
    },
    {
      "cell_type": "markdown",
      "metadata": {
        "id": "cRVH_2K7xTBC"
      },
      "source": [
        "## 2.2 Создание функций активации"
      ]
    },
    {
      "cell_type": "markdown",
      "metadata": {
        "id": "B9kngE6Fxs9D"
      },
      "source": [
        "2.2.1 Используя операции над матрицами и векторами из библиотеки `torch`, реализовать функцию активации ReLU:\n",
        "\n",
        "![](https://wikimedia.org/api/rest_v1/media/math/render/svg/f4353f4e3e484130504049599d2e7b040793e1eb)\n",
        "\n",
        "Создать матрицу размера (4,3), заполненную числами из стандартного нормального распределения, и проверить работоспособность функции активации."
      ]
    },
    {
      "cell_type": "code",
      "execution_count": 22,
      "metadata": {
        "id": "jZLvMRByxSTC"
      },
      "outputs": [],
      "source": [
        "class ReLU:\n",
        "  def forward(self, inputs):\n",
        "    inputs[inputs < 0] = 0\n",
        "    return(inputs)\n",
        "    pass"
      ]
    },
    {
      "cell_type": "code",
      "source": [
        "import torch.distributions as tdist\n",
        "n = tdist.Normal(torch.tensor([1.0]), torch.tensor([2]))\n",
        "inputs=n.sample((4,3))\n",
        "print(inputs)\n",
        "rl = ReLU()\n",
        "rl.forward(inputs)"
      ],
      "metadata": {
        "colab": {
          "base_uri": "https://localhost:8080/"
        },
        "id": "_Z6ASG7JtH43",
        "outputId": "95c42ad1-f306-4cba-9cfb-5457e183f52d"
      },
      "execution_count": 23,
      "outputs": [
        {
          "output_type": "stream",
          "name": "stdout",
          "text": [
            "tensor([[[ 0.9353],\n",
            "         [ 0.2641],\n",
            "         [ 1.8121]],\n",
            "\n",
            "        [[ 1.5789],\n",
            "         [ 0.6149],\n",
            "         [ 1.8962]],\n",
            "\n",
            "        [[-0.2844],\n",
            "         [ 3.6370],\n",
            "         [-1.4700]],\n",
            "\n",
            "        [[-0.3840],\n",
            "         [ 0.7029],\n",
            "         [ 3.4024]]])\n"
          ]
        },
        {
          "output_type": "execute_result",
          "data": {
            "text/plain": [
              "tensor([[[0.9353],\n",
              "         [0.2641],\n",
              "         [1.8121]],\n",
              "\n",
              "        [[1.5789],\n",
              "         [0.6149],\n",
              "         [1.8962]],\n",
              "\n",
              "        [[0.0000],\n",
              "         [3.6370],\n",
              "         [0.0000]],\n",
              "\n",
              "        [[0.0000],\n",
              "         [0.7029],\n",
              "         [3.4024]]])"
            ]
          },
          "metadata": {},
          "execution_count": 23
        }
      ]
    },
    {
      "cell_type": "markdown",
      "metadata": {
        "id": "puExCWiKyTtb"
      },
      "source": [
        "2.2.2 Используя операции над матрицами и векторами из библиотеки `torch`, реализовать функцию активации softmax:\n",
        "\n",
        "![](https://wikimedia.org/api/rest_v1/media/math/render/svg/6d7500d980c313da83e4117da701bf7c8f1982f5)\n",
        "\n",
        "Создать матрицу размера (4,3), заполненную числами из стандартного нормального распределения, и проверить работоспособность функции активации. Строки матрицы трактовать как выходы линейного слоя некоторого классификатора для 4 различных примеров."
      ]
    },
    {
      "cell_type": "code",
      "execution_count": 24,
      "metadata": {
        "id": "fXNcFlqqyKHl",
        "colab": {
          "base_uri": "https://localhost:8080/"
        },
        "outputId": "812440ba-9265-460c-8ecf-c707e8ff044e"
      },
      "outputs": [
        {
          "output_type": "execute_result",
          "data": {
            "text/plain": [
              "tensor([[ 1.9931e+00,  1.9341e+00,  2.7955e+00],\n",
              "        [-6.7556e-01, -2.2187e-02, -1.0804e-01],\n",
              "        [ 1.2501e+00,  5.6303e-01,  9.5795e+00],\n",
              "        [ 5.1087e+00,  7.0432e+00,  3.7899e+01]])"
            ]
          },
          "metadata": {},
          "execution_count": 24
        }
      ],
      "source": [
        "class Softmax:\n",
        "  def forward(self, inputs):\n",
        "    matr = torch.exp(inputs)\n",
        "    return matr/torch.sum(inputs, dim=1).view(-1,1)\n",
        "\n",
        "sf = Softmax()\n",
        "matr = torch.randn((4, 3))\n",
        "res = sf.forward(matr)\n",
        "res"
      ]
    },
    {
      "cell_type": "markdown",
      "metadata": {
        "id": "vxVK2TYez_Ye"
      },
      "source": [
        "2.2.3 Используя операции над матрицами и векторами из библиотеки `torch`, реализовать функцию активации ELU:\n",
        "\n",
        "![](https://wikimedia.org/api/rest_v1/media/math/render/svg/eb23becd37c3602c4838e53f532163279192e4fd)\n",
        "\n",
        "Создать матрицу размера (4,3), заполненную числами из стандартного нормального распределения, и проверить работоспособность функции активации."
      ]
    },
    {
      "cell_type": "code",
      "execution_count": 25,
      "metadata": {
        "id": "NzMz7HDLySxK",
        "colab": {
          "base_uri": "https://localhost:8080/"
        },
        "outputId": "9f688c96-18ba-4e97-9442-64208d878bd4"
      },
      "outputs": [
        {
          "output_type": "stream",
          "name": "stdout",
          "text": [
            "tensor([[ 0.5319,  1.1100, -0.1499],\n",
            "        [-0.7738, -0.7013,  0.1476],\n",
            "        [ 1.7691,  1.5964,  0.1422],\n",
            "        [-0.7084,  0.2625,  0.7869]])\n"
          ]
        },
        {
          "output_type": "execute_result",
          "data": {
            "text/plain": [
              "tensor([[ 0.5319,  1.1100, -0.1392],\n",
              "        [-0.5388, -0.5040,  0.1476],\n",
              "        [ 1.7691,  1.5964,  0.1422],\n",
              "        [-0.5076,  0.2625,  0.7869]])"
            ]
          },
          "metadata": {},
          "execution_count": 25
        }
      ],
      "source": [
        "class ELU:\n",
        "    def __init__(self, alpha):\n",
        "        self.alpha = alpha\n",
        "    \n",
        "    def forward(self, inputs):\n",
        "        inputs[inputs < 0] = (torch.exp(inputs[inputs < 0]) - 1) * self.alpha\n",
        "        return inputs\n",
        "\n",
        "elu = ELU(alpha = 1)\n",
        "matr = torch.randn((4, 3))\n",
        "print(matr)\n",
        "\n",
        "res = elu.forward(matr)\n",
        "res"
      ]
    },
    {
      "cell_type": "markdown",
      "metadata": {
        "id": "0peh8r-20Pof"
      },
      "source": [
        "## 2.3 Создание функции потерь"
      ]
    },
    {
      "cell_type": "markdown",
      "metadata": {
        "id": "EY-k3eEs0f7f"
      },
      "source": [
        "2.3.1 Используя операции над матрицами и векторами из библиотеки `torch`, реализовать функцию потерь MSE:\n",
        "\n",
        "![](https://wikimedia.org/api/rest_v1/media/math/render/svg/e258221518869aa1c6561bb75b99476c4734108e)\n",
        "\n",
        "Создать полносвязный слой с 1 нейроном, прогнать через него батч `inputs` и посчитать значение MSE, трактуя вектор `y` как вектор правильных ответов."
      ]
    },
    {
      "cell_type": "code",
      "execution_count": 26,
      "metadata": {
        "id": "f9-wdj5Tz-br"
      },
      "outputs": [],
      "source": [
        "class MSELoss:\n",
        "  def forward(self, y_pred, y_true):\n",
        "    return ((y_true - y_pred) ** 2).mean()"
      ]
    },
    {
      "cell_type": "code",
      "execution_count": 27,
      "metadata": {
        "id": "NAyuDU9F1Vuz"
      },
      "outputs": [],
      "source": [
        "inputs = torch.tensor([[1, 2, 3, 2.5], \n",
        "                       [2, 5, -1, 2], \n",
        "                       [-1.5, 2.7, 3.3, -0.8]])\n",
        "\n",
        "y = torch.tensor([2, 3, 4])"
      ]
    },
    {
      "cell_type": "code",
      "source": [
        "linear_layer = Linear(4, 1)\n",
        "\n",
        "mse_loss = MSELoss()\n",
        "res = mse_loss.forward(linear_layer.forward(inputs), y)\n",
        "\n",
        "res\n"
      ],
      "metadata": {
        "colab": {
          "base_uri": "https://localhost:8080/"
        },
        "id": "V_HUJwAkmzCk",
        "outputId": "e6b7edc5-d740-4d05-db5e-91e70f930b79"
      },
      "execution_count": 28,
      "outputs": [
        {
          "output_type": "execute_result",
          "data": {
            "text/plain": [
              "tensor(47.7143)"
            ]
          },
          "metadata": {},
          "execution_count": 28
        }
      ]
    },
    {
      "cell_type": "markdown",
      "metadata": {
        "id": "uaR7rILd1eWR"
      },
      "source": [
        "2.3.2 Используя операции над матрицами и векторами из библиотеки `torch`, реализовать функцию потерь Categorical Cross-Entropy:\n",
        "\n",
        "<img src=\"https://i.ibb.co/93gy1dN/Screenshot-9.png\" width=\"200\">\n",
        "\n",
        "Создать полносвязный слой с 3 нейронами и прогнать через него батч `inputs`. Полученный результат пропустить через функцию активации softmax. Посчитать значение CCE, трактуя вектор `y` как вектор правильных ответов."
      ]
    },
    {
      "cell_type": "code",
      "execution_count": 46,
      "metadata": {
        "id": "hQl8pJsT3HcF"
      },
      "outputs": [],
      "source": [
        "class CategoricalCrossentropyLoss:\n",
        "  def forward(self, y_pred, y_true):\n",
        "    return -1 * (y_true * torch.log(y_pred)).sum(1)"
      ]
    },
    {
      "cell_type": "code",
      "execution_count": 47,
      "metadata": {
        "id": "s7Qoupfo1ZGJ"
      },
      "outputs": [],
      "source": [
        "inputs = torch.tensor([[1, 2, 3, 2.5], \n",
        "                        [2, 5, -1, 2], \n",
        "                        [-1.5, 2.7, 3.3, -0.8]])\n",
        "y = torch.tensor([1, 0, 0])"
      ]
    },
    {
      "cell_type": "code",
      "source": [
        "linear_layer = Linear(4, 3)\n",
        "softmax = Softmax()\n",
        "cce_loss = CategoricalCrossentropyLoss()\n",
        "res = cce_loss.forward(softmax.forward(linear_layer.forward(inputs)), y)\n",
        "res"
      ],
      "metadata": {
        "colab": {
          "base_uri": "https://localhost:8080/"
        },
        "id": "nVwvucuAoOSj",
        "outputId": "0f710228-f33e-45f0-ebab-c66fb89d9a80"
      },
      "execution_count": 49,
      "outputs": [
        {
          "output_type": "execute_result",
          "data": {
            "text/plain": [
              "tensor([ 4.8038, -5.2846, -2.0359])"
            ]
          },
          "metadata": {},
          "execution_count": 49
        }
      ]
    },
    {
      "cell_type": "markdown",
      "metadata": {
        "id": "fA6dbanf44_4"
      },
      "source": [
        "2.3.3 Модифицировать 2.3.1, добавив L2-регуляризацию.\n",
        "\n",
        "![](https://wikimedia.org/api/rest_v1/media/math/render/svg/d92ca2429275bfdc0474523babbafe014ca8b580)\n"
      ]
    },
    {
      "cell_type": "code",
      "execution_count": 50,
      "metadata": {
        "id": "ADsZxD-h4_Os"
      },
      "outputs": [],
      "source": [
        "class MSELossL2:\n",
        "    \n",
        "    def __init__(self, lambda_, layer, t = 0.1):\n",
        "        self.lambda_ = lambda_\n",
        "        self.layer = layer\n",
        "        self.layer.t = t\n",
        "\n",
        "    def data_loss(self, y_pred, y_true):\n",
        "        return (y_true - y_pred) ** 2\n",
        "    \n",
        "    def reg_loss(self, layer):\n",
        "        return self.lambda_ * (layer.t ** 2)\n",
        "    \n",
        "    def forward(self, y_pred, y_true):\n",
        "        return self.data_loss(y_pred, y_true) + self.reg_loss(self.layer)"
      ]
    },
    {
      "cell_type": "code",
      "source": [
        "inputs = torch.tensor([[1, 2, 3, 2.5], \n",
        "                        [2, 5, -1, 2], \n",
        "                        [-1.5, 2.7, 3.3, -0.8]])\n",
        "y = torch.tensor([1, 0, 0])"
      ],
      "metadata": {
        "id": "4qYC5FtrpAun"
      },
      "execution_count": 51,
      "outputs": []
    },
    {
      "cell_type": "code",
      "source": [
        "linear_layer = Linear(4, 3)\n",
        "layer_out = linear_layer.forward(inputs)\n",
        "\n",
        "softmax = Softmax()\n",
        "mse_loss = MSELossL2(1.5, linear_layer)\n",
        "res = mse_loss.forward(softmax.forward(layer_out), y)\n",
        "res"
      ],
      "metadata": {
        "colab": {
          "base_uri": "https://localhost:8080/"
        },
        "id": "85VIzsxnpBQ4",
        "outputId": "d242c87b-73c3-41e2-e450-075b0ae21444"
      },
      "execution_count": 53,
      "outputs": [
        {
          "output_type": "execute_result",
          "data": {
            "text/plain": [
              "tensor([[1.0151, 0.0150, 0.0150],\n",
              "        [1.0160, 0.0150, 0.0150],\n",
              "        [1.0151, 0.0150, 0.0150]])"
            ]
          },
          "metadata": {},
          "execution_count": 53
        }
      ]
    },
    {
      "cell_type": "markdown",
      "metadata": {
        "id": "w049ZSdR6qQi"
      },
      "source": [
        "## 2.4 Обратное распространение ошибки"
      ]
    },
    {
      "cell_type": "markdown",
      "metadata": {
        "id": "pBtCfSME9W7Q"
      },
      "source": [
        "2.4.1 Используя один нейрон и SGD (1 пример за шаг), решите задачу регрессии"
      ]
    },
    {
      "cell_type": "code",
      "execution_count": 54,
      "metadata": {
        "id": "4xmI-QJ66WAF"
      },
      "outputs": [],
      "source": [
        "from sklearn.datasets import make_regression\n",
        "\n",
        "X, y, coef = make_regression(n_features=4, n_informative=4, coef=True, bias=0.5)\n",
        "X = torch.tensor(X, dtype=torch.float32)\n",
        "y = torch.tensor(y, dtype=torch.float32).view(-1, 1)"
      ]
    },
    {
      "cell_type": "markdown",
      "metadata": {
        "id": "KpPSPYSpD9Ey"
      },
      "source": [
        "[Граф вычислений для этой задачи](https://i.ibb.co/2dhDxZx/photo-2021-02-15-17-18-04.jpg)"
      ]
    },
    {
      "cell_type": "markdown",
      "metadata": {
        "id": "Fc1sXtGd_J-y"
      },
      "source": [
        "2.4.1.1 Реализуйте класс `SquaredLoss`\n"
      ]
    },
    {
      "cell_type": "code",
      "execution_count": 56,
      "metadata": {
        "id": "llFigkqd_JRU"
      },
      "outputs": [],
      "source": [
        "class SquaredLoss:\n",
        "  def forward(self, y_pred, y_true):\n",
        "    return (y_pred - y_true) ** 2\n",
        "\n",
        "  def backward(self, y_pred, y_true):\n",
        "    self.dinput = 2 * (y_pred - y_true)"
      ]
    },
    {
      "cell_type": "markdown",
      "metadata": {
        "id": "GY7ForfM97UQ"
      },
      "source": [
        "2.4.1.2. Модифицируйте класс `Neuron` из __2.1.1__:\n",
        "\n",
        "  1) Сделайте так, чтобы веса нейрона инициализировались из стандартного нормального распределения\n",
        "\n",
        "  2) Реализуйте расчет градиента относительно весов `weights` и `bias`"
      ]
    },
    {
      "cell_type": "code",
      "execution_count": 57,
      "metadata": {
        "id": "L0KqxPJU9kAN"
      },
      "outputs": [],
      "source": [
        "class Neuron:\n",
        "  def __init__(self, n_inputs):\n",
        "    self.n_inputs = n_inputs\n",
        "    self.weights = torch.randn(n_inputs)\n",
        "    self.bias = torch.randn(1)\n",
        "  \n",
        "  def forward(self, inputs):\n",
        "    self.inputs = inputs\n",
        "    return torch.sum(self.weights * inputs) + self.bias\n",
        "  \n",
        "  def backward(self, dvalue):\n",
        "    # dvalue - значение производной, которое приходит нейрону от следующего слоя сети\n",
        "    # в данном случае это будет значение df/dc (созданное методом backwards у объекта MSELoss)\n",
        "    self.dweights = dvalue * self.inputs\n",
        "    self.dinput = dvalue * self.weights\n",
        "    self.dbias = dvalue\n"
      ]
    },
    {
      "cell_type": "code",
      "source": [
        "inputs = torch.tensor([1., 2., 3., 4.])\n",
        "\n",
        "native_neuron = Neuron(4)\n",
        "out = native_neuron.forward(inputs)\n",
        "print(out)"
      ],
      "metadata": {
        "colab": {
          "base_uri": "https://localhost:8080/"
        },
        "id": "XgOob2P8yRku",
        "outputId": "5b111f30-8b4b-48dd-db2d-253d6a062394"
      },
      "execution_count": 58,
      "outputs": [
        {
          "output_type": "stream",
          "name": "stdout",
          "text": [
            "tensor([0.8582])\n"
          ]
        }
      ]
    },
    {
      "cell_type": "markdown",
      "metadata": {
        "id": "rKcO4zOLACxM"
      },
      "source": [
        "2.4.1.3 Допишите цикл для настройки весов нейрона\n",
        "\n",
        "[SGD](https://ru.wikipedia.org/wiki/%D0%A1%D1%82%D0%BE%D1%85%D0%B0%D1%81%D1%82%D0%B8%D1%87%D0%B5%D1%81%D0%BA%D0%B8%D0%B9_%D0%B3%D1%80%D0%B0%D0%B4%D0%B8%D0%B5%D0%BD%D1%82%D0%BD%D1%8B%D0%B9_%D1%81%D0%BF%D1%83%D1%81%D0%BA)\n",
        "\n",
        "![](https://wikimedia.org/api/rest_v1/media/math/render/svg/dda3670f8a8996a0d3bf80856bb4a166cc8db6d4)"
      ]
    },
    {
      "cell_type": "code",
      "execution_count": 60,
      "metadata": {
        "id": "_g_FvwvmALJd"
      },
      "outputs": [],
      "source": [
        "n_inputs = X.shape[1]\n",
        "learning_rate = 0.1\n",
        "n_epoch = 100\n",
        "\n",
        "neuron = Neuron(n_inputs)\n",
        "loss = SquaredLoss()\n",
        "\n",
        "losses = []\n",
        "for epoch in range(100):\n",
        "  for x_example, y_example in zip(X, y):\n",
        "    y_pred = neuron.forward(x_example) \n",
        "    curr_loss = loss.forward(y_pred, y_example)\n",
        "    losses.append(curr_loss)\n",
        "\n",
        "    loss.backward(y_pred, y_example)\n",
        "    neuron.backward(loss.dinput)\n",
        "\n",
        "    neuron.weights -= learning_rate * neuron.dweights\n",
        "    neuron.bias -= learning_rate * neuron.dbias"
      ]
    },
    {
      "cell_type": "code",
      "source": [
        "losses[::1000]"
      ],
      "metadata": {
        "colab": {
          "base_uri": "https://localhost:8080/"
        },
        "id": "KFMjY7TSqfpU",
        "outputId": "0599caa1-2434-441f-cb2b-c208741042f9"
      },
      "execution_count": 62,
      "outputs": [
        {
          "output_type": "execute_result",
          "data": {
            "text/plain": [
              "[tensor([17811.9121]),\n",
              " tensor([2.3283e-10]),\n",
              " tensor([2.3283e-10]),\n",
              " tensor([2.3283e-10]),\n",
              " tensor([2.3283e-10]),\n",
              " tensor([2.3283e-10]),\n",
              " tensor([2.3283e-10]),\n",
              " tensor([2.3283e-10]),\n",
              " tensor([2.3283e-10]),\n",
              " tensor([2.3283e-10])]"
            ]
          },
          "metadata": {},
          "execution_count": 62
        }
      ]
    },
    {
      "cell_type": "markdown",
      "metadata": {
        "id": "ebibge9VEgF7"
      },
      "source": [
        "2.4.2 Решите задачу 2.4.1, используя пакетный градиентный спуск"
      ]
    },
    {
      "cell_type": "markdown",
      "metadata": {
        "id": "as-QeWSdOELd"
      },
      "source": [
        "Вычисления для этой задачи: \n",
        "[1](https://i.ibb.co/rmtQT6P/photo-2021-02-15-18-00-43.jpg)\n",
        "[2](https://i.ibb.co/NmCFVnQ/photo-2021-02-15-18-01-17.jpg)"
      ]
    },
    {
      "cell_type": "markdown",
      "metadata": {
        "id": "dr9qq4H_J3zt"
      },
      "source": [
        "2.4.1.1 Модифицируйте класс `MSELoss` из __2.3.1__, реализовав расчет производной относительно предыдущего слоя с учетом того, что теперь работа ведется с батчами, а не с индивидуальными примерами\n",
        " "
      ]
    },
    {
      "cell_type": "code",
      "execution_count": 63,
      "metadata": {
        "id": "L8wjk9iPMQ4x"
      },
      "outputs": [],
      "source": [
        "class MSELoss:\n",
        "  def forward(self, y_pred, y_true):\n",
        "    return torch.mean((y_pred - y_true) ** 2)\n",
        "\n",
        "  def backward(self, y_pred, y_true):\n",
        "    self.dinput = 2 * (y_pred - y_true) / y_pred.shape[0]\n"
      ]
    },
    {
      "cell_type": "markdown",
      "metadata": {
        "id": "E3fSHCEtJjX8"
      },
      "source": [
        "2.4.2.2. Модифицируйте класс `Neuron` из __2.4.1.2__:\n",
        "\n",
        "  1) Реализуйте метод `forward` таким образом, чтобы он мог принимать на вход матрицу (батч) с данными. \n",
        "\n",
        "  2) Реализуйте расчет градиента относительно весов `weights` и `bias` с учетом того, что теперь работа ведется с батчами, а не с индивидуальными примерами"
      ]
    },
    {
      "cell_type": "code",
      "execution_count": 67,
      "metadata": {
        "id": "o_OpuAP0Jpz1"
      },
      "outputs": [],
      "source": [
        "class Neuron:\n",
        "  def __init__(self, n_inputs):\n",
        "    self.n_inputs = n_inputs\n",
        "    self.weights = torch.randn(1, n_inputs).T\n",
        "    self.bias = torch.randn(1)\n",
        "  \n",
        "  def forward(self, inputs):\n",
        "    self.inputs = inputs\n",
        "    return torch.matmul(inputs, self.weights) + self.bias\n",
        "  \n",
        "  def backward(self, dvalue):\n",
        "    self.dinputs = torch.matmul(dvalue, self.weights.T)\n",
        "    self.dweights = torch.matmul(self.inputs.T, dvalue) # df/dW\n",
        "    self.dbias = torch.sum(dvalue)\n"
      ]
    },
    {
      "cell_type": "markdown",
      "metadata": {
        "id": "zO-NZrgKMBFx"
      },
      "source": [
        "2.4.2.3 Допишите цикл для настройки весов нейрона"
      ]
    },
    {
      "cell_type": "code",
      "execution_count": 68,
      "metadata": {
        "id": "Zqwm_7eqJim1"
      },
      "outputs": [],
      "source": [
        "n_inputs = X.shape[1]\n",
        "learning_rate = 0.1\n",
        "n_epoch = 100\n",
        "\n",
        "neuron = Neuron(n_inputs)\n",
        "loss = MSELoss()\n",
        "\n",
        "\n",
        "for epoch in range(100):\n",
        "    y_pred = neuron.forward(X)\n",
        "    curr_loss = loss.forward(y_pred, y)\n",
        "    losses.append(curr_loss)\n",
        "\n",
        "    loss.backward(y_pred, y)\n",
        "    neuron.backward(loss.dinput)\n",
        "\n",
        "    neuron.weights -= learning_rate * neuron.dweights\n",
        "    neuron.bias -= learning_rate * neuron.dbias"
      ]
    },
    {
      "cell_type": "code",
      "source": [
        "losses[::1000]"
      ],
      "metadata": {
        "colab": {
          "base_uri": "https://localhost:8080/"
        },
        "id": "15psls31ryHS",
        "outputId": "86ee6ca8-5694-4dbe-afb0-0ce27d683924"
      },
      "execution_count": 73,
      "outputs": [
        {
          "output_type": "execute_result",
          "data": {
            "text/plain": [
              "[tensor([17811.9121]),\n",
              " tensor([2.3283e-10]),\n",
              " tensor([2.3283e-10]),\n",
              " tensor([2.3283e-10]),\n",
              " tensor([2.3283e-10]),\n",
              " tensor([2.3283e-10]),\n",
              " tensor([2.3283e-10]),\n",
              " tensor([2.3283e-10]),\n",
              " tensor([2.3283e-10]),\n",
              " tensor([2.3283e-10]),\n",
              " tensor([[1.0714e+04],\n",
              "         [1.9131e+04],\n",
              "         [2.0401e+04],\n",
              "         [5.5270e+03],\n",
              "         [8.2075e+01],\n",
              "         [4.5975e+03],\n",
              "         [2.9741e+03],\n",
              "         [1.4369e+04],\n",
              "         [1.1283e+04],\n",
              "         [4.5321e+04],\n",
              "         [4.9572e+03],\n",
              "         [5.2783e+03],\n",
              "         [1.9059e+02],\n",
              "         [1.6643e+04],\n",
              "         [1.0721e+03],\n",
              "         [5.4505e+04],\n",
              "         [3.2010e+03],\n",
              "         [4.1428e+03],\n",
              "         [7.6951e+03],\n",
              "         [1.4343e+04],\n",
              "         [3.4103e+03],\n",
              "         [3.9623e+04],\n",
              "         [1.8651e+03],\n",
              "         [1.3246e+04],\n",
              "         [1.1614e+03],\n",
              "         [3.9145e+00],\n",
              "         [3.2195e+04],\n",
              "         [3.7370e+03],\n",
              "         [1.2025e+03],\n",
              "         [2.4440e+04],\n",
              "         [9.8002e+02],\n",
              "         [1.3565e+04],\n",
              "         [1.2730e+04],\n",
              "         [1.3639e+05],\n",
              "         [1.9760e+02],\n",
              "         [1.1842e+02],\n",
              "         [3.8486e+03],\n",
              "         [1.7033e+04],\n",
              "         [3.1435e+02],\n",
              "         [3.5449e+01],\n",
              "         [1.1486e+02],\n",
              "         [3.0657e+02],\n",
              "         [2.5395e+03],\n",
              "         [3.2532e+04],\n",
              "         [2.9306e+04],\n",
              "         [8.1137e+03],\n",
              "         [1.7791e+02],\n",
              "         [1.8724e+03],\n",
              "         [4.7988e+02],\n",
              "         [3.6246e+00],\n",
              "         [2.8011e+04],\n",
              "         [1.5046e+04],\n",
              "         [1.8257e+00],\n",
              "         [7.7464e+01],\n",
              "         [4.5940e+04],\n",
              "         [1.2134e+04],\n",
              "         [6.0595e+03],\n",
              "         [4.6791e+03],\n",
              "         [1.3301e+02],\n",
              "         [3.7088e+03],\n",
              "         [3.3443e+00],\n",
              "         [8.9325e+03],\n",
              "         [2.0383e+02],\n",
              "         [1.8318e+04],\n",
              "         [4.6569e+03],\n",
              "         [2.0776e+03],\n",
              "         [3.9556e+03],\n",
              "         [7.6342e+01],\n",
              "         [5.4336e+04],\n",
              "         [8.0050e+03],\n",
              "         [2.3203e+02],\n",
              "         [3.6284e+04],\n",
              "         [2.9247e+04],\n",
              "         [2.2763e+04],\n",
              "         [3.8617e+02],\n",
              "         [9.2122e+03],\n",
              "         [7.3802e+03],\n",
              "         [3.2417e+04],\n",
              "         [2.8421e+04],\n",
              "         [2.7152e+03],\n",
              "         [4.1308e+02],\n",
              "         [4.5374e+04],\n",
              "         [1.3032e+03],\n",
              "         [3.0505e+03],\n",
              "         [6.4599e+03],\n",
              "         [1.7543e+04],\n",
              "         [1.3178e+04],\n",
              "         [6.6331e+03],\n",
              "         [3.9440e+04],\n",
              "         [7.9565e+03],\n",
              "         [6.8780e+02],\n",
              "         [2.4846e+04],\n",
              "         [6.2118e+03],\n",
              "         [3.6112e+04],\n",
              "         [3.7966e+02],\n",
              "         [4.6555e+03],\n",
              "         [2.6505e+04],\n",
              "         [1.1102e+04],\n",
              "         [5.2997e+01],\n",
              "         [6.6498e+04]])]"
            ]
          },
          "metadata": {},
          "execution_count": 73
        }
      ]
    },
    {
      "cell_type": "markdown",
      "metadata": {
        "id": "16VtP159OdMk"
      },
      "source": [
        "2.4.3  Используя один полносвязный слой и  пакетный градиетный спуск, решите задачу регрессии из __2.4.1__"
      ]
    },
    {
      "cell_type": "markdown",
      "metadata": {
        "id": "uj5febreSSZ7"
      },
      "source": [
        "2.4.3.1 Модифицируйте класс `Linear` из __2.1.4__. ([вычисление градиентов](https://i.ibb.co/kgVR6m6/photo-2021-02-15-21-30-28.jpg))"
      ]
    },
    {
      "cell_type": "code",
      "execution_count": 74,
      "metadata": {
        "id": "9zWuhaLdSB2_"
      },
      "outputs": [],
      "source": [
        "class Linear:\n",
        "  def __init__(self, n_features, n_neurons):\n",
        "    self.n_features = n_features\n",
        "    self.n_neurons = n_neurons\n",
        "    self.weights = torch.randn(n_neurons, n_features).T\n",
        "    self.biases = torch.randn(n_neurons)\n",
        "  \n",
        "  def forward(self, inputs):\n",
        "    self.inputs = inputs\n",
        "    return torch.matmul(inputs, self.weights) + self.biases\n",
        "\n",
        "  def backward(self, dvalues):\n",
        "    self.dweights = torch.matmul(self.inputs.T, dvalues)\n",
        "    self.dbiases = torch.matmul(torch.ones(dvalues.shape[0]), dvalues)\n",
        "    self.dinputs = torch.matmul(dvalues, self.weights.T)"
      ]
    },
    {
      "cell_type": "markdown",
      "metadata": {
        "id": "j3w1hT9MS_Lt"
      },
      "source": [
        "2.4.3.2 Создайте слой с одним нейроном. Используя класс MSELoss из 2.4.2, убедитесь, что модель обучается"
      ]
    },
    {
      "cell_type": "code",
      "source": [
        "n_inputs = X.shape[1]\n",
        "learning_rate = 0.01\n",
        "n_epoch = 1000\n",
        "\n",
        "layer = Linear(n_inputs, 1)\n",
        "loss = MSELoss()\n",
        "\n",
        "losses = []\n",
        "\n",
        "for epoch in range(n_epoch):\n",
        "    y_pred = layer.forward(X)\n",
        "    curr_loss = loss.forward(y_pred, y) \n",
        "    losses.append(curr_loss)\n",
        "\n",
        "    loss.backward(y_pred, y)\n",
        "    layer.backward(loss.dinput)\n",
        "\n",
        "    layer.weights -= learning_rate * layer.dweights\n",
        "    layer.biases -= learning_rate * layer.dbiases\n",
        "\n",
        "losses[::20]"
      ],
      "metadata": {
        "colab": {
          "base_uri": "https://localhost:8080/"
        },
        "id": "N8uZWJgEsaYy",
        "outputId": "d66e9298-b740-43ba-9af9-7b6bda915c57"
      },
      "execution_count": 75,
      "outputs": [
        {
          "output_type": "execute_result",
          "data": {
            "text/plain": [
              "[tensor(13211.6250),\n",
              " tensor(5141.6328),\n",
              " tensor(2039.6591),\n",
              " tensor(830.0530),\n",
              " tensor(348.9724),\n",
              " tensor(152.5590),\n",
              " tensor(69.6616),\n",
              " tensor(33.2635),\n",
              " tensor(16.5676),\n",
              " tensor(8.5606),\n",
              " tensor(4.5571),\n",
              " tensor(2.4820),\n",
              " tensor(1.3747),\n",
              " tensor(0.7705),\n",
              " tensor(0.4355),\n",
              " tensor(0.2475),\n",
              " tensor(0.1413),\n",
              " tensor(0.0808),\n",
              " tensor(0.0463),\n",
              " tensor(0.0266),\n",
              " tensor(0.0153),\n",
              " tensor(0.0088),\n",
              " tensor(0.0050),\n",
              " tensor(0.0029),\n",
              " tensor(0.0017),\n",
              " tensor(0.0010),\n",
              " tensor(0.0006),\n",
              " tensor(0.0003),\n",
              " tensor(0.0002),\n",
              " tensor(0.0001),\n",
              " tensor(6.0455e-05),\n",
              " tensor(3.4745e-05),\n",
              " tensor(2.0013e-05),\n",
              " tensor(1.1506e-05),\n",
              " tensor(6.6447e-06),\n",
              " tensor(3.8458e-06),\n",
              " tensor(2.2042e-06),\n",
              " tensor(1.3120e-06),\n",
              " tensor(7.4992e-07),\n",
              " tensor(4.5980e-07),\n",
              " tensor(2.7308e-07),\n",
              " tensor(1.4681e-07),\n",
              " tensor(1.0376e-07),\n",
              " tensor(8.8972e-08),\n",
              " tensor(7.8591e-08),\n",
              " tensor(7.4567e-08),\n",
              " tensor(7.4116e-08),\n",
              " tensor(7.4027e-08),\n",
              " tensor(7.3985e-08),\n",
              " tensor(7.3468e-08)]"
            ]
          },
          "metadata": {},
          "execution_count": 75
        }
      ]
    },
    {
      "cell_type": "markdown",
      "metadata": {
        "id": "RTkJV-F8TVuN"
      },
      "source": [
        "2.4.4 Используя наработки из 2.4, создайте нейросеть и решите задачу регрессии.\n",
        "\n",
        "Предлагаемая архитектура: \n",
        "1. Полносвязный слой с 10 нейронами\n",
        "2. Активация ReLU\n",
        "3. Полносвязный слой с 1 нейроном"
      ]
    },
    {
      "cell_type": "code",
      "execution_count": 80,
      "metadata": {
        "id": "axUjpPz-SvS1"
      },
      "outputs": [],
      "source": [
        "X = torch.linspace(-1, 1, 100).view(-1, 1)\n",
        "y = X.pow(2) + 0.2 * torch.rand(X.size()) "
      ]
    },
    {
      "cell_type": "code",
      "execution_count": 77,
      "metadata": {
        "id": "LXoiNxkpTziV"
      },
      "outputs": [],
      "source": [
        "class Activation_ReLU:\n",
        "  def forward(self, inputs):\n",
        "    self.inputs = inputs\n",
        "    self.output = inputs.clip(min=0)\n",
        "    return self.output\n",
        "  \n",
        "  def backward(self, dvalues):\n",
        "    self.dinputs = dvalues.clone()\n",
        "    self.dinputs[self.inputs <= 0] = 0"
      ]
    },
    {
      "cell_type": "code",
      "source": [
        "fc1 = Linear(1, 10)\n",
        "relu = Activation_ReLU()\n",
        "fc2 = Linear(10, 1)\n",
        "loss = MSELoss()\n",
        "lr = 0.02\n",
        "\n",
        "ys = []\n",
        "losses = []\n",
        "\n",
        "for epoch in range(2001):\n",
        "  # <forward pass>\n",
        "  # fc1 > relu1 > fc2 > loss\n",
        "\n",
        "  y_pred = fc1.forward(X) # 100x1 @ 1x10 => 100 x 10 \n",
        "  y_pred = relu.forward(y_pred) # 100 x 10 => 100 x 10\n",
        "  y_pred = fc2.forward(y_pred) # 100 x 10 @ 10 x 1 => 100x1\n",
        "    \n",
        "\n",
        "  # <прогон через функцию потерь>\n",
        "  data_loss = loss.forward(y_pred, y)\n",
        "  losses.append(data_loss)\n",
        "  if epoch % 200 == 0:\n",
        "    print(f'epoch {epoch} mean loss {data_loss}')\n",
        "    ys.append(y_pred)\n",
        "  \n",
        "  # <backprop> \n",
        "  # loss > fc2 > relu1 > fc1\n",
        "  loss.backward(y_pred, y) #100 x 1\n",
        "  fc2.backward(loss.dinput) \n",
        "  relu.backward(loss.dinput @ fc2.dweights.T)\n",
        "  # relu.backward(fc2.dinput)\n",
        "  fc1.backward(relu.dinputs)\n",
        "  # <шаг оптимизации для fc1>\n",
        "  fc1.weights -= lr * fc1.dweights\n",
        "  fc1.biases -= lr * fc1.dbiases\n",
        "  # <шаг оптимизации для fc2>\n",
        "  fc2.weights -= lr * fc2.dweights\n",
        "  fc2.biases -= lr * fc2.dbiases"
      ],
      "metadata": {
        "colab": {
          "base_uri": "https://localhost:8080/"
        },
        "id": "EpHDLYMBxepY",
        "outputId": "9f20a95b-2ff1-435b-d2e3-0726302b36e6"
      },
      "execution_count": 106,
      "outputs": [
        {
          "output_type": "stream",
          "name": "stdout",
          "text": [
            "epoch 0 mean loss 3.122093439102173\n",
            "epoch 200 mean loss 0.018328268080949783\n",
            "epoch 400 mean loss 0.00985698401927948\n",
            "epoch 600 mean loss 0.007211351301521063\n",
            "epoch 800 mean loss 0.006311466917395592\n",
            "epoch 1000 mean loss 0.0059989881701767445\n",
            "epoch 1200 mean loss 0.0058881305158138275\n",
            "epoch 1400 mean loss 0.005847261752933264\n",
            "epoch 1600 mean loss 0.005830913316458464\n",
            "epoch 1800 mean loss 0.005823218729346991\n",
            "epoch 2000 mean loss 0.005818657111376524\n"
          ]
        }
      ]
    },
    {
      "cell_type": "code",
      "execution_count": 107,
      "metadata": {
        "id": "kpKi0OfoUkwk",
        "colab": {
          "base_uri": "https://localhost:8080/",
          "height": 1000
        },
        "outputId": "cf447a3a-5d86-4c4c-edd4-cac93dbed86a"
      },
      "outputs": [
        {
          "output_type": "display_data",
          "data": {
            "text/plain": [
              "<Figure size 720x2880 with 11 Axes>"
            ],
            "image/png": "[encoded data removed]"
          },
          "metadata": {
            "needs_background": "light"
          }
        }
      ],
      "source": [
        "import matplotlib.pyplot as plt\n",
        "\n",
        "fig, axs = plt.subplots(len(ys), 1, figsize=(10, 40))\n",
        "for ax, y_ in zip(axs, ys):\n",
        "  ax.scatter(X.numpy(), y.numpy(), color = \"orange\")\n",
        "  ax.plot(X.numpy(), y_.numpy(), 'g-', lw=3)\n",
        "  ax.set_xlim(-1.05, 1.5)\n",
        "  ax.set_ylim(-0.25, 1.25)"
      ]
    }
  ],
  "metadata": {
    "colab": {
      "provenance": []
    },
    "kernelspec": {
      "display_name": "Python 3 (ipykernel)",
      "language": "python",
      "name": "python3"
    },
    "language_info": {
      "codemirror_mode": {
        "name": "ipython",
        "version": 3
      },
      "file_extension": ".py",
      "mimetype": "text/x-python",
      "name": "python",
      "nbconvert_exporter": "python",
      "pygments_lexer": "ipython3",
      "version": "3.9.13"
    }
  },
  "nbformat": 4,
  "nbformat_minor": 0
}